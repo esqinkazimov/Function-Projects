{
 "cells": [
  {
   "cell_type": "code",
   "execution_count": 1,
   "metadata": {},
   "outputs": [
    {
     "name": "stdout",
     "output_type": "stream",
     "text": [
      "Enter a assword: 9E9s9q9i9n\n",
      "That is a good password.\n"
     ]
    }
   ],
   "source": [
    "## Check whether or not a passwor is good.\n",
    "\n",
    "## A good password is at least 8 characters long and\n",
    "## contains an uppercase letter, a lowercase letter and a number\n",
    "# @param password the password to check\n",
    "# @return True if the password is good, False otherwise\n",
    "def checkPassword(password):\n",
    "    has_upper = False\n",
    "    has_lower = False\n",
    "    has_num = False\n",
    "    \n",
    "    # Check each character in the password and see which requirement it meets\n",
    "    for ch in password:\n",
    "        if ch >= 'A' and ch <= 'Z':\n",
    "            has_upper = True\n",
    "        elif ch >= 'a' and ch <= 'z':\n",
    "            has_lower = True\n",
    "        elif ch >= '0' and ch <= '9':\n",
    "            has_num = True\n",
    "            \n",
    "    # If the password has all 4 properties\n",
    "    if len(password) >= 8 and has_upper and has_lower and has_num:\n",
    "        return True\n",
    "    \n",
    "    # The password is missing at least on property\n",
    "    return False\n",
    "\n",
    "# Demonstrate the password checking function\n",
    "def main():\n",
    "    p = input('Enter a assword: ')\n",
    "    if checkPassword(p):\n",
    "        print('That is a good password.')\n",
    "    else:\n",
    "        print('That is not a good password.')\n",
    "        \n",
    "# Call the main function only if the file has not been imported into another program\n",
    "if __name__ == '__main__':\n",
    "    main()"
   ]
  }
 ],
 "metadata": {
  "kernelspec": {
   "display_name": "Python 3",
   "language": "python",
   "name": "python3"
  },
  "language_info": {
   "codemirror_mode": {
    "name": "ipython",
    "version": 3
   },
   "file_extension": ".py",
   "mimetype": "text/x-python",
   "name": "python",
   "nbconvert_exporter": "python",
   "pygments_lexer": "ipython3",
   "version": "3.6.5"
  }
 },
 "nbformat": 4,
 "nbformat_minor": 2
}
