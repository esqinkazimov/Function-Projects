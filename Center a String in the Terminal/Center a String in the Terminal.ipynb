{
 "cells": [
  {
   "cell_type": "code",
   "execution_count": 1,
   "metadata": {},
   "outputs": [
    {
     "name": "stdout",
     "output_type": "stream",
     "text": [
      "Enter the string: Hello World!\n",
      "\n",
      "                                                        Hello World!\n"
     ]
    }
   ],
   "source": [
    "## Center a string of characters within a certaing width \n",
    "\n",
    "WIDTH = 125\n",
    "\n",
    "## Create a new string that will be centered within a given width when it is printed\n",
    "# @param s the string that will be centered\n",
    "# @param width the width in which the string will be centered\n",
    "# @return a new copy of s that contains the leading spaces neede so that\n",
    "#         s will appear centered when it is printed\n",
    "def center(s, width):\n",
    "    # If the string is too long to center, then the original string is returned\n",
    "    if width < len(s):\n",
    "        return s\n",
    "    \n",
    "    # Compute the number of spaces needed and generate the result\n",
    "    spaces = (width - len(s)) // 2\n",
    "    result = ' ' * spaces + s\n",
    "    \n",
    "    return result\n",
    "\n",
    "# Read the string and then demonstrate the center function\n",
    "def main():\n",
    "    string = input('Enter the string: ')\n",
    "    \n",
    "    print()\n",
    "    print(center(string, WIDTH))\n",
    "      \n",
    "# Call the main function\n",
    "main()"
   ]
  }
 ],
 "metadata": {
  "kernelspec": {
   "display_name": "Python 3",
   "language": "python",
   "name": "python3"
  },
  "language_info": {
   "codemirror_mode": {
    "name": "ipython",
    "version": 3
   },
   "file_extension": ".py",
   "mimetype": "text/x-python",
   "name": "python",
   "nbconvert_exporter": "python",
   "pygments_lexer": "ipython3",
   "version": "3.6.5"
  }
 },
 "nbformat": 4,
 "nbformat_minor": 2
}
