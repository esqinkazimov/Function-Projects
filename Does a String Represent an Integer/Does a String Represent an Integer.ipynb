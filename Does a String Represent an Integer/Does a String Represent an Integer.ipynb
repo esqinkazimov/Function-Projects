{
 "cells": [
  {
   "cell_type": "code",
   "execution_count": 1,
   "metadata": {},
   "outputs": [
    {
     "name": "stdout",
     "output_type": "stream",
     "text": [
      "Enter a string: 452\n",
      "That string represents an integer.\n"
     ]
    }
   ],
   "source": [
    "## Determine whether or not a string entered by the user is an integer.\n",
    "\n",
    "## Determine if a string contains a valid representation of an integer\n",
    "# @param s the string to check\n",
    "# @return True if s represents an integer. False otherwise.\n",
    "\n",
    "def isInteger(s):\n",
    "    # Remove whitespace from the beginning and end of the string\n",
    "    s = s.strip()\n",
    "    \n",
    "    # Determine if the remaining characters form a valid integer\n",
    "    if (s[0] == '+' or s[0] == '-') and s[1:].isdigit():\n",
    "        return True\n",
    "    if s.isdigit():\n",
    "        return True\n",
    "    return False\n",
    "\n",
    "# Demonstrate the isInteger function\n",
    "def main():\n",
    "    s = input('Enter a string: ')\n",
    "    if isInteger(s):\n",
    "        print('That string represents an integer.')\n",
    "    else:\n",
    "        print('That string does not represent an integer.')\n",
    "        \n",
    "# Only call the main function when this file has not been imported\n",
    "if __name__ == '__main__':\n",
    "    main()\n"
   ]
  }
 ],
 "metadata": {
  "kernelspec": {
   "display_name": "Python 3",
   "language": "python",
   "name": "python3"
  },
  "language_info": {
   "codemirror_mode": {
    "name": "ipython",
    "version": 3
   },
   "file_extension": ".py",
   "mimetype": "text/x-python",
   "name": "python",
   "nbconvert_exporter": "python",
   "pygments_lexer": "ipython3",
   "version": "3.6.5"
  }
 },
 "nbformat": 4,
 "nbformat_minor": 2
}
