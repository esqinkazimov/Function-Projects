{
 "cells": [
  {
   "cell_type": "code",
   "execution_count": 1,
   "metadata": {},
   "outputs": [
    {
     "name": "stdout",
     "output_type": "stream",
     "text": [
      "Enter the length of the first side: 7\n",
      "Enter the length of the second side: 9\n",
      "Enter the length of the third side: 11\n",
      "It is a valid triangle.\n"
     ]
    }
   ],
   "source": [
    "## Determine whether or not three lengths can form a triangle\n",
    "\n",
    "## Determine if a triangle is a valid one\n",
    "# @param a the length of the first side\n",
    "# @param b the length of the second side\n",
    "# @param c the length of the third side\n",
    "# @return the boolean value\n",
    "def isValid(a, b, c):\n",
    "    return a < b + c and b < a + c and c < a + b\n",
    "\n",
    "# Display the 3 values entered by the user and demonstrate the behaviour of the function\n",
    "def main():\n",
    "    side1 = float(input('Enter the length of the first side: '))\n",
    "    side2 = float(input('Enter the length of the second side: '))\n",
    "    side3 = float(input('Enter the length of the third side: '))\n",
    "    \n",
    "    if isValid(side1, side2, side3):\n",
    "        print('It is a valid triangle.')\n",
    "    else: \n",
    "        print('It is not a valid triangle.')\n",
    "        \n",
    "# Call the main function\n",
    "main()"
   ]
  }
 ],
 "metadata": {
  "kernelspec": {
   "display_name": "Python 3",
   "language": "python",
   "name": "python3"
  },
  "language_info": {
   "codemirror_mode": {
    "name": "ipython",
    "version": 3
   },
   "file_extension": ".py",
   "mimetype": "text/x-python",
   "name": "python",
   "nbconvert_exporter": "python",
   "pygments_lexer": "ipython3",
   "version": "3.6.5"
  }
 },
 "nbformat": 4,
 "nbformat_minor": 2
}
