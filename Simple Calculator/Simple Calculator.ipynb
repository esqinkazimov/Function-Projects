{
 "cells": [
  {
   "cell_type": "code",
   "execution_count": 1,
   "metadata": {},
   "outputs": [
    {
     "name": "stdout",
     "output_type": "stream",
     "text": [
      "Select Option\n",
      "1. Addition\n",
      "2. Subtraction\n",
      "3. Multiplication\n",
      "4. Division\n",
      "Enter choice 1/2/3/4 :  3\n",
      "Enter first number:  23\n",
      "Enter second number:  32\n",
      "Multiplication of 23.0 and 32.0 is 736.0\n"
     ]
    }
   ],
   "source": [
    "def add(a, b):\n",
    "    \"\"\"\n",
    "    This function adds two numbers\n",
    "    \"\"\"\n",
    "    return a + b\n",
    "\n",
    "def multiply(a, b):\n",
    "    \"\"\"\n",
    "    This function multiply two numbers\n",
    "    \"\"\"\n",
    "    return a * b\n",
    "\n",
    "def subtract(a, b):\n",
    "    \"\"\"\n",
    "    This function subtract two numbers\n",
    "    \"\"\"\n",
    "    return a - b\n",
    "\n",
    "def division(a, b):\n",
    "    \"\"\"\n",
    "    This function divides two numbers\n",
    "    \"\"\"\n",
    "    return a / b\n",
    "\n",
    "print(\"Select Option\")\n",
    "print(\"1. Addition\")\n",
    "print (\"2. Subtraction\")\n",
    "print (\"3. Multiplication\")\n",
    "print (\"4. Division\")\n",
    "\n",
    "#take input from user\n",
    "choice = int(input(\"Enter choice 1/2/3/4 :  \"))\n",
    "\n",
    "num1 = float(input(\"Enter first number:  \"))\n",
    "num2 = float(input(\"Enter second number:  \"))\n",
    "if choice == 1:\n",
    "    print(\"Addition of {0} and {1} is {2}\".format(num1, num2, add(num1, num2)))\n",
    "elif choice == 2:\n",
    "    print(\"Subtraction of {0} and {1} is {2}\".format(num1, num2, subtract(num1, num2)))\n",
    "elif choice == 3:\n",
    "    print(\"Multiplication of {0} and {1} is {2}\".format(num1, num2, multiply(num1, num2)))\n",
    "elif choice == 4:\n",
    "    print(\"Division of {0} and {1} is {2}\".format(num1, num2, division(num1, num2)))\n",
    "else:\n",
    "    print(\"Invalid Choice\")"
   ]
  },
  {
   "cell_type": "code",
   "execution_count": null,
   "metadata": {},
   "outputs": [],
   "source": []
  }
 ],
 "metadata": {
  "kernelspec": {
   "display_name": "Python 3",
   "language": "python",
   "name": "python3"
  },
  "language_info": {
   "codemirror_mode": {
    "name": "ipython",
    "version": 3
   },
   "file_extension": ".py",
   "mimetype": "text/x-python",
   "name": "python",
   "nbconvert_exporter": "python",
   "pygments_lexer": "ipython3",
   "version": "3.6.5"
  }
 },
 "nbformat": 4,
 "nbformat_minor": 2
}
