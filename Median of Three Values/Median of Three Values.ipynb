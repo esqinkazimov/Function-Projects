{
 "cells": [
  {
   "cell_type": "code",
   "execution_count": 1,
   "metadata": {},
   "outputs": [
    {
     "name": "stdout",
     "output_type": "stream",
     "text": [
      "Enter the first value: 5\n",
      "Enter the second value: 7\n",
      "Enter the third value: 3\n",
      "The median value is: 5.0\n",
      "Using the alternative method, it is: 5.0\n"
     ]
    }
   ],
   "source": [
    "'''Compute and display the median of three values entered by the user.\n",
    "   This program includes two implementation of the median function that \n",
    "   demonstrate techniques for computing the median of three values'''\n",
    "\n",
    "## Compute the median of three values using if statements \n",
    "# @param a the first value\n",
    "# @param b the second value\n",
    "# @param c the third value\n",
    "# @return the median of values a, b and c\n",
    "\n",
    "def median(a, b, c):\n",
    "    if a < b and b < c or a > b and b > c:\n",
    "        return b\n",
    "    if b < a and a < c or b > a and a > c:\n",
    "        return a\n",
    "    if c < a and b < c or c > a and b > c:\n",
    "        return c\n",
    "    \n",
    "## Compute the median of three values using the min and max functions\n",
    "## and a little bit of arithmetic\n",
    "# @param a the first value\n",
    "# @param b the second value\n",
    "# @param c the third value\n",
    "# @return the median of values a, b and c\n",
    "\n",
    "def alternateMedian(a, b, c):\n",
    "    return a + b + c - min(a, b, c) - max(a, b, c)\n",
    "\n",
    "# Display the median of 3 values entered by the user\n",
    "def main():\n",
    "    x = float(input('Enter the first value: '))\n",
    "    y = float(input('Enter the second value: '))\n",
    "    z = float(input('Enter the third value: '))\n",
    "    \n",
    "    print('The median value is:', median(x, y, z))\n",
    "    print('Using the alternative method, it is:', alternateMedian(x, y, z))\n",
    "\n",
    "# Call the main function\n",
    "main()"
   ]
  }
 ],
 "metadata": {
  "kernelspec": {
   "display_name": "Python 3",
   "language": "python",
   "name": "python3"
  },
  "language_info": {
   "codemirror_mode": {
    "name": "ipython",
    "version": 3
   },
   "file_extension": ".py",
   "mimetype": "text/x-python",
   "name": "python",
   "nbconvert_exporter": "python",
   "pygments_lexer": "ipython3",
   "version": "3.6.5"
  }
 },
 "nbformat": 4,
 "nbformat_minor": 2
}
