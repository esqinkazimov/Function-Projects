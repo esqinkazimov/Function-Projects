{
 "cells": [
  {
   "cell_type": "code",
   "execution_count": 1,
   "metadata": {},
   "outputs": [
    {
     "name": "stdout",
     "output_type": "stream",
     "text": [
      "Your random password is:  -C#qBZbJ\n"
     ]
    }
   ],
   "source": [
    "## Generate and display a random assword containing between 7 and 10 characters.\n",
    "\n",
    "from random import randint\n",
    "\n",
    "SHORTEST = 7\n",
    "LONGEST = 10\n",
    "MIN_ASCII = 33\n",
    "MAX_ASCII = 126\n",
    "\n",
    "## Generate a random password\n",
    "# @return a string containing a random password\n",
    "def randomPassword():\n",
    "    # Select a random length for the password\n",
    "    randomLength = randint(SHORTEST, LONGEST)\n",
    "    \n",
    "    # Generate an appropriate number of random characters, adding each one to the end of result\n",
    "    result = ''\n",
    "    for i in range(randomLength):\n",
    "        randomChar = chr(randint(MIN_ASCII, MAX_ASCII))\n",
    "        result += randomChar\n",
    "        \n",
    "    # Return the random password\n",
    "    return result\n",
    "\n",
    "# Generate and display a random password\n",
    "def main():\n",
    "    print('Your random password is: ', randomPassword())\n",
    "    \n",
    "# Call the main function only if the module is not imported\n",
    "if __name__ == '__main__':\n",
    "    main()"
   ]
  }
 ],
 "metadata": {
  "kernelspec": {
   "display_name": "Python 3",
   "language": "python",
   "name": "python3"
  },
  "language_info": {
   "codemirror_mode": {
    "name": "ipython",
    "version": 3
   },
   "file_extension": ".py",
   "mimetype": "text/x-python",
   "name": "python",
   "nbconvert_exporter": "python",
   "pygments_lexer": "ipython3",
   "version": "3.6.5"
  }
 },
 "nbformat": 4,
 "nbformat_minor": 2
}
