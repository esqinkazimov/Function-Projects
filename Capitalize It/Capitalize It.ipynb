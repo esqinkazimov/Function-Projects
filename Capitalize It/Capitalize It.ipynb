{
 "cells": [
  {
   "cell_type": "code",
   "execution_count": 1,
   "metadata": {},
   "outputs": [
    {
     "name": "stdout",
     "output_type": "stream",
     "text": [
      "Enter some text: hello i am Eshqin. and i love here too much\n",
      "It is capitalized as: Hello I am Eshqin. And I love here too much\n"
     ]
    }
   ],
   "source": [
    "## Improve the capitalization of a string by replacing 'i' with 'I' and by\n",
    "## capitalizing the first letter of each sentence\n",
    "\n",
    "## Capitalize the appropriate characters in a string \n",
    "# @param s the string that needs capitalization\n",
    "# @return a new string with the capitalization improved\n",
    "def capitalize(s):\n",
    "    # Correct the capitalization for i\n",
    "    result = s.replace(' i ', ' I ')\n",
    "    \n",
    "    # Capitalize the first character of the string\n",
    "    if len(s) > 0:\n",
    "        result = result[0].upper() + result[1 : len(result)]\n",
    "        \n",
    "    # Capitalize the first letter that follows a '.', '!', or '?'\n",
    "    pos = 0\n",
    "    while pos < len(s):\n",
    "        if result[pos] == '.' or result[pos] == '!' or result[pos] == '?':\n",
    "            # Move past the '.', '!' or '?'\n",
    "            pos = pos + 1\n",
    "            \n",
    "            # Move past any spaces\n",
    "            while pos < len(s) and result[pos] == ' ':\n",
    "                pos = pos + 1\n",
    "                \n",
    "            # If we haven't reached the end of the string then replace\n",
    "            # the current character with its upercase equivalent\n",
    "            if pos < len(s):\n",
    "                result = result[0 : pos] + \\\n",
    "                result[pos].upper() + \\\n",
    "                result[pos + 1 : len(result)]\n",
    "                \n",
    "        # Move to the next character\n",
    "        pos = pos + 1\n",
    "        \n",
    "    return result\n",
    "\n",
    "# Demonstrate the capitalize function\n",
    "def main():\n",
    "    s = input('Enter some text: ')\n",
    "    capitalized = capitalize(s)\n",
    "    print('It is capitalized as:', capitalized)\n",
    "    \n",
    "# Call the main function\n",
    "main()"
   ]
  }
 ],
 "metadata": {
  "kernelspec": {
   "display_name": "Python 3",
   "language": "python",
   "name": "python3"
  },
  "language_info": {
   "codemirror_mode": {
    "name": "ipython",
    "version": 3
   },
   "file_extension": ".py",
   "mimetype": "text/x-python",
   "name": "python",
   "nbconvert_exporter": "python",
   "pygments_lexer": "ipython3",
   "version": "3.6.5"
  }
 },
 "nbformat": 4,
 "nbformat_minor": 2
}
