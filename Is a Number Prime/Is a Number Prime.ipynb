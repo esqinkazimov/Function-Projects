{
 "cells": [
  {
   "cell_type": "code",
   "execution_count": 1,
   "metadata": {},
   "outputs": [
    {
     "name": "stdout",
     "output_type": "stream",
     "text": [
      "Enter an integer: 435452\n",
      "435452 is not prime.\n"
     ]
    }
   ],
   "source": [
    "## Determine if a number entered by the user is prime.\n",
    "\n",
    "## Determine whether or not a number is prime\n",
    "# @param n the integer to test\n",
    "# @return True if the number is prime, False otherwise\n",
    "def isPrime(n):\n",
    "    if n <= 1:\n",
    "        return False\n",
    "    # Check each number from 2 up to but not including n to see if it divides evenly into n\n",
    "    for i in range(2, n):\n",
    "        if n % i == 0:\n",
    "            return False\n",
    "    return True\n",
    "\n",
    "# Determine if a number entered by the user is prime\n",
    "def main():\n",
    "    value = int(input('Enter an integer: '))\n",
    "    if isPrime(value):\n",
    "        print(value, 'is prime.')\n",
    "    else:\n",
    "        print(value, 'is not prime.')\n",
    "        \n",
    "# Call the main function if the file has not been imported\n",
    "if __name__ == '__main__':\n",
    "    main()"
   ]
  }
 ],
 "metadata": {
  "kernelspec": {
   "display_name": "Python 3",
   "language": "python",
   "name": "python3"
  },
  "language_info": {
   "codemirror_mode": {
    "name": "ipython",
    "version": 3
   },
   "file_extension": ".py",
   "mimetype": "text/x-python",
   "name": "python",
   "nbconvert_exporter": "python",
   "pygments_lexer": "ipython3",
   "version": "3.6.5"
  }
 },
 "nbformat": 4,
 "nbformat_minor": 2
}
