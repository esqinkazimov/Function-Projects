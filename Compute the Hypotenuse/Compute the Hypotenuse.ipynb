{
 "cells": [
  {
   "cell_type": "code",
   "execution_count": 1,
   "metadata": {},
   "outputs": [
    {
     "name": "stdout",
     "output_type": "stream",
     "text": [
      "Enter the length of the 1st side: 3\n",
      "Enter the length of the 2nd side: 4\n",
      "The length of the hypotenuse is: 5.0\n"
     ]
    }
   ],
   "source": [
    "## Compute the hypotenuse of a right triangle\n",
    "\n",
    "from math import sqrt\n",
    "\n",
    "# Compute the hypotenuse\n",
    "# @param a the length of the first side\n",
    "# @param b the length of the second side\n",
    "# @return the length of the hypotenuse\n",
    "def hypotenuse(a, b):\n",
    "    return sqrt(a ** 2 + b ** 2)\n",
    "\n",
    "# Display the two sides entered by the user\n",
    "def main():\n",
    "    side1 = float(input('Enter the length of the 1st side: '))\n",
    "    side2 = float(input('Enter the length of the 2nd side: '))\n",
    "    \n",
    "    print('The length of the hypotenuse is:', hypotenuse(side1, side2))\n",
    "    \n",
    "# Call the main function\n",
    "main()"
   ]
  }
 ],
 "metadata": {
  "kernelspec": {
   "display_name": "Python 3",
   "language": "python",
   "name": "python3"
  },
  "language_info": {
   "codemirror_mode": {
    "name": "ipython",
    "version": 3
   },
   "file_extension": ".py",
   "mimetype": "text/x-python",
   "name": "python",
   "nbconvert_exporter": "python",
   "pygments_lexer": "ipython3",
   "version": "3.6.5"
  }
 },
 "nbformat": 4,
 "nbformat_minor": 2
}
