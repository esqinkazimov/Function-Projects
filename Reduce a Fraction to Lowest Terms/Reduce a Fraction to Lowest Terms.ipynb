{
 "cells": [
  {
   "cell_type": "code",
   "execution_count": 1,
   "metadata": {},
   "outputs": [
    {
     "name": "stdout",
     "output_type": "stream",
     "text": [
      "Enter the numerator: 56\n",
      "Enter the denominator: 44\n",
      "56/44 can be reduced to 14/11\n"
     ]
    }
   ],
   "source": [
    "## Reduce a fraction to its lowest terms\n",
    "\n",
    "## Compute the greatest common divisor of two integers.\n",
    "# @param n the first integer under consideration (must be non-zero)\n",
    "# @param m the second integer under consideration (must be non-zero)\n",
    "# @return the gratest common divisor of the integers\n",
    "def gcd(n, m):\n",
    "    # Initialize d to the smaller of n and m\n",
    "    d = min(n, m)\n",
    "    \n",
    "    # Use a while loop to find the greatest common divisor of n and m\n",
    "    while n % d != 0 or m % d != 0:\n",
    "        d = d - 1\n",
    "        \n",
    "    return d\n",
    "\n",
    "## Reduce a fraction to lowest terms\n",
    "# @param the integer numerator of the fraction\n",
    "# @param the integer denominator of the fraction\n",
    "# @return the number and denominator of the reduced fraction\n",
    "def reduce(num, den):\n",
    "    # If the numerator is 0 then rhe reduced fraction is 0/1\n",
    "    if num == 0:\n",
    "        return(0, 1)\n",
    "    \n",
    "    # Compute the greatest common divisor of the numerator and denominator\n",
    "    g = gcd(num, den)\n",
    "    \n",
    "    # Divide both the numerator and denominator\n",
    "    # by the gcd and return the result\n",
    "    return(num // g, den // g)\n",
    "\n",
    "#Read the fractionfrom the user and display the reduced fraction\n",
    "def main():\n",
    "    # Read the input from the user\n",
    "    num = int(input('Enter the numerator: '))\n",
    "    den = int(input('Enter the denominator: '))\n",
    "    \n",
    "    # Compute the reduced fraction\n",
    "    (n, d) = reduce(num, den)\n",
    "    \n",
    "    # Display the result\n",
    "    print('%d/%d can be reduced to %d/%d' % (num, den, n, d))\n",
    "    \n",
    "# Call the main function\n",
    "main()"
   ]
  }
 ],
 "metadata": {
  "kernelspec": {
   "display_name": "Python 3",
   "language": "python",
   "name": "python3"
  },
  "language_info": {
   "codemirror_mode": {
    "name": "ipython",
    "version": 3
   },
   "file_extension": ".py",
   "mimetype": "text/x-python",
   "name": "python",
   "nbconvert_exporter": "python",
   "pygments_lexer": "ipython3",
   "version": "3.6.5"
  }
 },
 "nbformat": 4,
 "nbformat_minor": 2
}
